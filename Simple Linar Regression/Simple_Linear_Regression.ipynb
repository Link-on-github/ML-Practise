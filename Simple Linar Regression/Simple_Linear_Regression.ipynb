{
 "cells": [
  {
   "cell_type": "code",
   "execution_count": 1,
   "id": "39453226-8342-43e7-acd0-c0241aac5aae",
   "metadata": {},
   "outputs": [],
   "source": [
    "import numpy as np\n",
    "import pandas as pd\n",
    "import seaborn as sns\n",
    "import os\n",
    "import matplotlib.pyplot as plt"
   ]
  },
  {
   "cell_type": "code",
   "execution_count": 1,
   "id": "d5b183f7-71cf-4455-9076-0e57094a9c1a",
   "metadata": {},
   "outputs": [],
   "source": [
    "#os.getcwd()"
   ]
  },
  {
   "cell_type": "code",
   "execution_count": 3,
   "id": "2b0441f5-2e3f-45b2-8ef8-807cf0fc93ef",
   "metadata": {},
   "outputs": [],
   "source": [
    "os.chdir('<filepath>')"
   ]
  },
  {
   "cell_type": "code",
   "execution_count": 5,
   "id": "9d818be3-6e77-485a-877a-fbdfc9cedf56",
   "metadata": {},
   "outputs": [
    {
     "name": "stdout",
     "output_type": "stream",
     "text": [
      "    YearsExperience  Salary\n",
      "0               1.1   39343\n",
      "1               1.3   46205\n",
      "2               1.5   37731\n",
      "3               2.0   43525\n",
      "4               2.2   39891\n",
      "5               2.9   56642\n",
      "6               3.0   60150\n",
      "7               3.2   54445\n",
      "8               3.2   64445\n",
      "9               3.7   57189\n",
      "10              3.9   63218\n",
      "11              4.0   55794\n",
      "12              4.0   56957\n",
      "13              4.1   57081\n",
      "14              4.5   61111\n",
      "15              4.9   67938\n",
      "16              5.1   66029\n",
      "17              5.3   83088\n",
      "18              5.9   81363\n",
      "19              6.0   93940\n",
      "20              6.8   91738\n",
      "21              7.1   98273\n",
      "22              7.9  101302\n",
      "23              8.2  113812\n",
      "24              8.7  109431\n",
      "25              9.0  105582\n",
      "26              9.5  116969\n",
      "27              9.6  112635\n",
      "28             10.3  122391\n",
      "29             10.5  121872\n"
     ]
    }
   ],
   "source": [
    "df1 = pd.read_csv('Salary_Data.csv')\n",
    "print(df1)"
   ]
  },
  {
   "cell_type": "code",
   "execution_count": 7,
   "id": "159445d0-aeaf-4f7c-b439-03484c77ad19",
   "metadata": {},
   "outputs": [
    {
     "name": "stdout",
     "output_type": "stream",
     "text": [
      "    YearsExperience\n",
      "0               1.1\n",
      "1               1.3\n",
      "2               1.5\n",
      "3               2.0\n",
      "4               2.2\n",
      "5               2.9\n",
      "6               3.0\n",
      "7               3.2\n",
      "8               3.2\n",
      "9               3.7\n",
      "10              3.9\n",
      "11              4.0\n",
      "12              4.0\n",
      "13              4.1\n",
      "14              4.5\n",
      "15              4.9\n",
      "16              5.1\n",
      "17              5.3\n",
      "18              5.9\n",
      "19              6.0\n",
      "20              6.8\n",
      "21              7.1\n",
      "22              7.9\n",
      "23              8.2\n",
      "24              8.7\n",
      "25              9.0\n",
      "26              9.5\n",
      "27              9.6\n",
      "28             10.3\n",
      "29             10.5\n"
     ]
    }
   ],
   "source": [
    "x = df1.iloc[:,0:1]\n",
    "print(x)"
   ]
  },
  {
   "cell_type": "code",
   "execution_count": 10,
   "id": "aee38f5b-2e15-4f63-ac60-89f3f688a3f2",
   "metadata": {},
   "outputs": [
    {
     "data": {
      "text/plain": [
       "array([[ 1.1],\n",
       "       [ 1.3],\n",
       "       [ 1.5],\n",
       "       [ 2. ],\n",
       "       [ 2.2],\n",
       "       [ 2.9],\n",
       "       [ 3. ],\n",
       "       [ 3.2],\n",
       "       [ 3.2],\n",
       "       [ 3.7],\n",
       "       [ 3.9],\n",
       "       [ 4. ],\n",
       "       [ 4. ],\n",
       "       [ 4.1],\n",
       "       [ 4.5],\n",
       "       [ 4.9],\n",
       "       [ 5.1],\n",
       "       [ 5.3],\n",
       "       [ 5.9],\n",
       "       [ 6. ],\n",
       "       [ 6.8],\n",
       "       [ 7.1],\n",
       "       [ 7.9],\n",
       "       [ 8.2],\n",
       "       [ 8.7],\n",
       "       [ 9. ],\n",
       "       [ 9.5],\n",
       "       [ 9.6],\n",
       "       [10.3],\n",
       "       [10.5]])"
      ]
     },
     "execution_count": 10,
     "metadata": {},
     "output_type": "execute_result"
    }
   ],
   "source": [
    "x = df1.iloc[:,0:1].values\n",
    "x"
   ]
  },
  {
   "cell_type": "code",
   "execution_count": 15,
   "id": "25559d62-cb7c-4575-bf93-804982e8d313",
   "metadata": {},
   "outputs": [
    {
     "name": "stdout",
     "output_type": "stream",
     "text": [
      "[ 39343  46205  37731  43525  39891  56642  60150  54445  64445  57189\n",
      "  63218  55794  56957  57081  61111  67938  66029  83088  81363  93940\n",
      "  91738  98273 101302 113812 109431 105582 116969 112635 122391 121872]\n"
     ]
    }
   ],
   "source": [
    "y = df1.iloc[:,-1].values\n",
    "print(y)"
   ]
  },
  {
   "cell_type": "code",
   "execution_count": 16,
   "id": "b01de377-5ece-4c0f-84da-1c9d08f4dea4",
   "metadata": {},
   "outputs": [
    {
     "data": {
      "image/png": "[encoded data removed]",
      "text/plain": [
       "<Figure size 640x480 with 1 Axes>"
      ]
     },
     "metadata": {},
     "output_type": "display_data"
    }
   ],
   "source": [
    "plt.plot(x,y)\n",
    "plt.show()"
   ]
  },
  {
   "cell_type": "code",
   "execution_count": 18,
   "id": "1b2b5bb2-a46e-4207-84ad-9bb84331dcb6",
   "metadata": {},
   "outputs": [
    {
     "data": {
      "text/plain": [
       "[array([[ 5.1],\n",
       "        [ 2. ],\n",
       "        [ 7.1],\n",
       "        [ 6. ],\n",
       "        [10.5],\n",
       "        [ 4.9],\n",
       "        [ 9.5],\n",
       "        [ 9. ],\n",
       "        [ 9.6],\n",
       "        [ 2.2],\n",
       "        [ 2.9],\n",
       "        [ 8.7],\n",
       "        [ 7.9],\n",
       "        [ 5.3],\n",
       "        [ 3.7],\n",
       "        [ 4. ],\n",
       "        [ 6.8],\n",
       "        [10.3],\n",
       "        [ 3.2],\n",
       "        [ 3.9],\n",
       "        [ 4. ],\n",
       "        [ 4.1]]),\n",
       " array([[3. ],\n",
       "        [4.5],\n",
       "        [3.2],\n",
       "        [5.9],\n",
       "        [1.5],\n",
       "        [1.1],\n",
       "        [1.3],\n",
       "        [8.2]])]"
      ]
     },
     "execution_count": 18,
     "metadata": {},
     "output_type": "execute_result"
    }
   ],
   "source": [
    "#data set is split into 2 parts. 1 part is used for training dataset(75%) and remaining(25%) is used to test the dataset\n",
    "from sklearn.model_selection import train_test_split\n",
    "train_test_split(x)"
   ]
  },
  {
   "cell_type": "code",
   "execution_count": 21,
   "id": "6fea2003-1203-42e9-b487-e82b363cc4ad",
   "metadata": {},
   "outputs": [
    {
     "data": {
      "text/plain": [
       "[array([[ 7.1],\n",
       "        [ 4.5],\n",
       "        [ 3.2],\n",
       "        [ 1.3],\n",
       "        [ 5.9],\n",
       "        [ 5.1],\n",
       "        [ 1.5],\n",
       "        [ 3.9],\n",
       "        [ 2.2],\n",
       "        [ 9.5],\n",
       "        [ 8.7],\n",
       "        [ 8.2],\n",
       "        [10.3],\n",
       "        [ 6. ],\n",
       "        [ 4.9],\n",
       "        [ 5.3],\n",
       "        [ 4.1],\n",
       "        [ 3.7],\n",
       "        [ 3.2],\n",
       "        [ 7.9],\n",
       "        [ 9.6],\n",
       "        [ 4. ],\n",
       "        [ 3. ],\n",
       "        [ 4. ]]),\n",
       " array([[ 1.1],\n",
       "        [ 6.8],\n",
       "        [ 2.9],\n",
       "        [10.5],\n",
       "        [ 9. ],\n",
       "        [ 2. ]])]"
      ]
     },
     "execution_count": 21,
     "metadata": {},
     "output_type": "execute_result"
    }
   ],
   "source": [
    "from sklearn.model_selection import train_test_split\n",
    "train_test_split(x,test_size = .2) #made 20% into test instead of the default 25%"
   ]
  },
  {
   "cell_type": "code",
   "execution_count": 23,
   "id": "1d59fc1e-3c35-487e-be45-690427a95437",
   "metadata": {},
   "outputs": [
    {
     "data": {
      "text/plain": [
       "[array([[ 3.9],\n",
       "        [ 5.3],\n",
       "        [ 1.5],\n",
       "        [ 9.6],\n",
       "        [ 9. ],\n",
       "        [ 3.7],\n",
       "        [ 5.1],\n",
       "        [ 9.5],\n",
       "        [ 4. ],\n",
       "        [ 3. ],\n",
       "        [ 6. ],\n",
       "        [10.5],\n",
       "        [ 3.2],\n",
       "        [ 4.9],\n",
       "        [ 1.3],\n",
       "        [ 4.1],\n",
       "        [ 4. ],\n",
       "        [ 3.2],\n",
       "        [ 7.1],\n",
       "        [ 1.1],\n",
       "        [ 4.5],\n",
       "        [ 8.2],\n",
       "        [ 7.9],\n",
       "        [ 2.9]]),\n",
       " array([[ 5.9],\n",
       "        [ 6.8],\n",
       "        [ 2.2],\n",
       "        [ 2. ],\n",
       "        [ 8.7],\n",
       "        [10.3]]),\n",
       " array([ 63218,  83088,  37731, 112635, 105582,  57189,  66029, 116969,\n",
       "         56957,  60150,  93940, 121872,  64445,  67938,  46205,  57081,\n",
       "         55794,  54445,  98273,  39343,  61111, 113812, 101302,  56642]),\n",
       " array([ 81363,  91738,  39891,  43525, 109431, 122391])]"
      ]
     },
     "execution_count": 23,
     "metadata": {},
     "output_type": "execute_result"
    }
   ],
   "source": [
    "from sklearn.model_selection import train_test_split\n",
    "train_test_split(x,y, test_size = .2) #both x and y are being taken"
   ]
  },
  {
   "cell_type": "code",
   "execution_count": 24,
   "id": "b181ac17-48f9-44fd-a351-2a339738f682",
   "metadata": {},
   "outputs": [
    {
     "name": "stdout",
     "output_type": "stream",
     "text": [
      "X Shape- (30, 1)\n",
      "Y Shape- (30,)\n",
      "X_Train Shape- (24, 1)\n",
      "Y_Train Shape- (24,)\n",
      "X_Test Shape- (6, 1)\n",
      "Y_Test Shape- (6,)\n"
     ]
    }
   ],
   "source": [
    "from sklearn.model_selection import train_test_split\n",
    "x_train, x_test,y_train,y_test = train_test_split(x,y,test_size=0.2)\n",
    "print ('X Shape-',x.shape)\n",
    "print ('Y Shape-', y.shape)\n",
    "print ('X_Train Shape-',x_train.shape)\n",
    "print ('Y_Train Shape-',y_train.shape)\n",
    "print ('X_Test Shape-',x_test.shape)\n",
    "print ('Y_Test Shape-',y_test.shape)"
   ]
  },
  {
   "cell_type": "code",
   "execution_count": 37,
   "id": "b266138b-4755-41f1-a9d0-302a653449d5",
   "metadata": {},
   "outputs": [
    {
     "data": {
      "text/html": [
       "<style>#sk-container-id-2 {color: black;background-color: white;}#sk-container-id-2 pre{padding: 0;}#sk-container-id-2 div.sk-toggleable {background-color: white;}#sk-container-id-2 label.sk-toggleable__label {cursor: pointer;display: block;width: 100%;margin-bottom: 0;padding: 0.3em;box-sizing: border-box;text-align: center;}#sk-container-id-2 label.sk-toggleable__label-arrow:before {content: \"▸\";float: left;margin-right: 0.25em;color: #696969;}#sk-container-id-2 label.sk-toggleable__label-arrow:hover:before {color: black;}#sk-container-id-2 div.sk-estimator:hover label.sk-toggleable__label-arrow:before {color: black;}#sk-container-id-2 div.sk-toggleable__content {max-height: 0;max-width: 0;overflow: hidden;text-align: left;background-color: #f0f8ff;}#sk-container-id-2 div.sk-toggleable__content pre {margin: 0.2em;color: black;border-radius: 0.25em;background-color: #f0f8ff;}#sk-container-id-2 input.sk-toggleable__control:checked~div.sk-toggleable__content {max-height: 200px;max-width: 100%;overflow: auto;}#sk-container-id-2 input.sk-toggleable__control:checked~label.sk-toggleable__label-arrow:before {content: \"▾\";}#sk-container-id-2 div.sk-estimator input.sk-toggleable__control:checked~label.sk-toggleable__label {background-color: #d4ebff;}#sk-container-id-2 div.sk-label input.sk-toggleable__control:checked~label.sk-toggleable__label {background-color: #d4ebff;}#sk-container-id-2 input.sk-hidden--visually {border: 0;clip: rect(1px 1px 1px 1px);clip: rect(1px, 1px, 1px, 1px);height: 1px;margin: -1px;overflow: hidden;padding: 0;position: absolute;width: 1px;}#sk-container-id-2 div.sk-estimator {font-family: monospace;background-color: #f0f8ff;border: 1px dotted black;border-radius: 0.25em;box-sizing: border-box;margin-bottom: 0.5em;}#sk-container-id-2 div.sk-estimator:hover {background-color: #d4ebff;}#sk-container-id-2 div.sk-parallel-item::after {content: \"\";width: 100%;border-bottom: 1px solid gray;flex-grow: 1;}#sk-container-id-2 div.sk-label:hover label.sk-toggleable__label {background-color: #d4ebff;}#sk-container-id-2 div.sk-serial::before {content: \"\";position: absolute;border-left: 1px solid gray;box-sizing: border-box;top: 0;bottom: 0;left: 50%;z-index: 0;}#sk-container-id-2 div.sk-serial {display: flex;flex-direction: column;align-items: center;background-color: white;padding-right: 0.2em;padding-left: 0.2em;position: relative;}#sk-container-id-2 div.sk-item {position: relative;z-index: 1;}#sk-container-id-2 div.sk-parallel {display: flex;align-items: stretch;justify-content: center;background-color: white;position: relative;}#sk-container-id-2 div.sk-item::before, #sk-container-id-2 div.sk-parallel-item::before {content: \"\";position: absolute;border-left: 1px solid gray;box-sizing: border-box;top: 0;bottom: 0;left: 50%;z-index: -1;}#sk-container-id-2 div.sk-parallel-item {display: flex;flex-direction: column;z-index: 1;position: relative;background-color: white;}#sk-container-id-2 div.sk-parallel-item:first-child::after {align-self: flex-end;width: 50%;}#sk-container-id-2 div.sk-parallel-item:last-child::after {align-self: flex-start;width: 50%;}#sk-container-id-2 div.sk-parallel-item:only-child::after {width: 0;}#sk-container-id-2 div.sk-dashed-wrapped {border: 1px dashed gray;margin: 0 0.4em 0.5em 0.4em;box-sizing: border-box;padding-bottom: 0.4em;background-color: white;}#sk-container-id-2 div.sk-label label {font-family: monospace;font-weight: bold;display: inline-block;line-height: 1.2em;}#sk-container-id-2 div.sk-label-container {text-align: center;}#sk-container-id-2 div.sk-container {/* jupyter's `normalize.less` sets `[hidden] { display: none; }` but bootstrap.min.css set `[hidden] { display: none !important; }` so we also need the `!important` here to be able to override the default hidden behavior on the sphinx rendered scikit-learn.org. See: https://github.com/scikit-learn/scikit-learn/issues/21755 */display: inline-block !important;position: relative;}#sk-container-id-2 div.sk-text-repr-fallback {display: none;}</style><div id=\"sk-container-id-2\" class=\"sk-top-container\"><div class=\"sk-text-repr-fallback\"><pre>LinearRegression()</pre><b>In a Jupyter environment, please rerun this cell to show the HTML representation or trust the notebook. <br />On GitHub, the HTML representation is unable to render, please try loading this page with nbviewer.org.</b></div><div class=\"sk-container\" hidden><div class=\"sk-item\"><div class=\"sk-estimator sk-toggleable\"><input class=\"sk-toggleable__control sk-hidden--visually\" id=\"sk-estimator-id-2\" type=\"checkbox\" checked><label for=\"sk-estimator-id-2\" class=\"sk-toggleable__label sk-toggleable__label-arrow\">LinearRegression</label><div class=\"sk-toggleable__content\"><pre>LinearRegression()</pre></div></div></div></div></div>"
      ],
      "text/plain": [
       "LinearRegression()"
      ]
     },
     "execution_count": 37,
     "metadata": {},
     "output_type": "execute_result"
    }
   ],
   "source": [
    "#creating the model\n",
    "from sklearn.linear_model import LinearRegression\n",
    "lr = LinearRegression()\n",
    "lr = lr.fit(x_train,y_train)\n",
    "lr"
   ]
  },
  {
   "cell_type": "code",
   "execution_count": 38,
   "id": "b6652a70-ca45-49b9-bbaa-c212ea0e2ba3",
   "metadata": {},
   "outputs": [
    {
     "name": "stdout",
     "output_type": "stream",
     "text": [
      "[ 98429.12554753 105703.40685406 101156.98103748  71150.57064803\n",
      "  81152.70744451 112977.68816059]\n"
     ]
    }
   ],
   "source": [
    "#predicting the values based on model\n",
    "y_pred =lr.predict(x_test)\n",
    "print(y_pred)"
   ]
  },
  {
   "cell_type": "code",
   "execution_count": 39,
   "id": "b4e73a98-cfd1-470e-8300-2b225171efda",
   "metadata": {},
   "outputs": [
    {
     "data": {
      "text/plain": [
       "array([101302, 109431, 113812,  67938,  93940, 116969])"
      ]
     },
     "execution_count": 39,
     "metadata": {},
     "output_type": "execute_result"
    }
   ],
   "source": [
    "y_test #test set(actual values) i.e. actual salary vs years of experience. The previous line makes a prediction of salary based on exp"
   ]
  },
  {
   "cell_type": "code",
   "execution_count": 40,
   "id": "28a27669-08df-4a1c-ac95-a25d65b5725d",
   "metadata": {},
   "outputs": [
    {
     "data": {
      "text/plain": [
       "0.7018518255456211"
      ]
     },
     "execution_count": 40,
     "metadata": {},
     "output_type": "execute_result"
    }
   ],
   "source": [
    "#testing accuracy of mode\n",
    "from sklearn.metrics import r2_score\n",
    "r2_score(y_pred,y_test)"
   ]
  },
  {
   "cell_type": "code",
   "execution_count": null,
   "id": "d602856e-11dd-43a0-9c5b-848c708c5fa5",
   "metadata": {},
   "outputs": [],
   "source": []
  }
 ],
 "metadata": {
  "kernelspec": {
   "display_name": "Python 3 (ipykernel)",
   "language": "python",
   "name": "python3"
  },
  "language_info": {
   "codemirror_mode": {
    "name": "ipython",
    "version": 3
   },
   "file_extension": ".py",
   "mimetype": "text/x-python",
   "name": "python",
   "nbconvert_exporter": "python",
   "pygments_lexer": "ipython3",
   "version": "3.12.3"
  }
 },
 "nbformat": 4,
 "nbformat_minor": 5
}
