{
 "cells": [
  {
   "cell_type": "code",
   "execution_count": 34,
   "id": "7a3176b6-1176-458d-b871-2e1f4fb52e19",
   "metadata": {},
   "outputs": [],
   "source": [
    "import numpy as np\n",
    "import pandas as pd\n",
    "import matplotlib.pyplot as plt\n",
    "import seaborn as sns\n",
    "import os"
   ]
  },
  {
   "cell_type": "code",
   "execution_count": 35,
   "id": "d1adccd1-de16-490d-b285-3879ce901781",
   "metadata": {},
   "outputs": [],
   "source": [
    "os.chdir('<filepath>')"
   ]
  },
  {
   "cell_type": "code",
   "execution_count": 36,
   "id": "10418773-1c6e-4f53-b55b-fb79c2b277fe",
   "metadata": {},
   "outputs": [
    {
     "data": {
      "text/html": [
       "<div>\n",
       "<style scoped>\n",
       "    .dataframe tbody tr th:only-of-type {\n",
       "        vertical-align: middle;\n",
       "    }\n",
       "\n",
       "    .dataframe tbody tr th {\n",
       "        vertical-align: top;\n",
       "    }\n",
       "\n",
       "    .dataframe thead th {\n",
       "        text-align: right;\n",
       "    }\n",
       "</style>\n",
       "<table border=\"1\" class=\"dataframe\">\n",
       "  <thead>\n",
       "    <tr style=\"text-align: right;\">\n",
       "      <th></th>\n",
       "      <th>Country</th>\n",
       "      <th>Age</th>\n",
       "      <th>Salary</th>\n",
       "      <th>Purchased</th>\n",
       "    </tr>\n",
       "  </thead>\n",
       "  <tbody>\n",
       "    <tr>\n",
       "      <th>0</th>\n",
       "      <td>France</td>\n",
       "      <td>44.0</td>\n",
       "      <td>72000.0</td>\n",
       "      <td>No</td>\n",
       "    </tr>\n",
       "    <tr>\n",
       "      <th>1</th>\n",
       "      <td>NaN</td>\n",
       "      <td>27.0</td>\n",
       "      <td>48000.0</td>\n",
       "      <td>Yes</td>\n",
       "    </tr>\n",
       "    <tr>\n",
       "      <th>2</th>\n",
       "      <td>Germany</td>\n",
       "      <td>NaN</td>\n",
       "      <td>54000.0</td>\n",
       "      <td>No</td>\n",
       "    </tr>\n",
       "    <tr>\n",
       "      <th>3</th>\n",
       "      <td>Spain</td>\n",
       "      <td>39.0</td>\n",
       "      <td>NaN</td>\n",
       "      <td>No</td>\n",
       "    </tr>\n",
       "    <tr>\n",
       "      <th>4</th>\n",
       "      <td>Germany</td>\n",
       "      <td>NaN</td>\n",
       "      <td>64000.0</td>\n",
       "      <td>Yes</td>\n",
       "    </tr>\n",
       "    <tr>\n",
       "      <th>5</th>\n",
       "      <td>France</td>\n",
       "      <td>35.0</td>\n",
       "      <td>58000.0</td>\n",
       "      <td>Yes</td>\n",
       "    </tr>\n",
       "    <tr>\n",
       "      <th>6</th>\n",
       "      <td>Spain</td>\n",
       "      <td>39.0</td>\n",
       "      <td>52000.0</td>\n",
       "      <td>No</td>\n",
       "    </tr>\n",
       "    <tr>\n",
       "      <th>7</th>\n",
       "      <td>France</td>\n",
       "      <td>48.0</td>\n",
       "      <td>NaN</td>\n",
       "      <td>Yes</td>\n",
       "    </tr>\n",
       "    <tr>\n",
       "      <th>8</th>\n",
       "      <td>Germany</td>\n",
       "      <td>50.0</td>\n",
       "      <td>83000.0</td>\n",
       "      <td>No</td>\n",
       "    </tr>\n",
       "    <tr>\n",
       "      <th>9</th>\n",
       "      <td>France</td>\n",
       "      <td>37.0</td>\n",
       "      <td>67000.0</td>\n",
       "      <td>Yes</td>\n",
       "    </tr>\n",
       "  </tbody>\n",
       "</table>\n",
       "</div>"
      ],
      "text/plain": [
       "   Country   Age   Salary  Purchased \n",
       "0   France   44.0  72000.0         No\n",
       "1       NaN  27.0  48000.0        Yes\n",
       "2  Germany    NaN  54000.0         No\n",
       "3    Spain   39.0      NaN         No\n",
       "4  Germany    NaN  64000.0        Yes\n",
       "5   France   35.0  58000.0        Yes\n",
       "6    Spain   39.0  52000.0         No\n",
       "7   France   48.0      NaN        Yes\n",
       "8  Germany   50.0  83000.0         No\n",
       "9   France   37.0  67000.0        Yes"
      ]
     },
     "execution_count": 36,
     "metadata": {},
     "output_type": "execute_result"
    }
   ],
   "source": [
    "df1 = pd.read_excel('Data Preprocessing Data File.xlsx')\n",
    "df1"
   ]
  },
  {
   "cell_type": "code",
   "execution_count": 37,
   "id": "3b835a01-ff92-4443-a291-3655a70e0091",
   "metadata": {},
   "outputs": [
    {
     "data": {
      "text/html": [
       "<div>\n",
       "<style scoped>\n",
       "    .dataframe tbody tr th:only-of-type {\n",
       "        vertical-align: middle;\n",
       "    }\n",
       "\n",
       "    .dataframe tbody tr th {\n",
       "        vertical-align: top;\n",
       "    }\n",
       "\n",
       "    .dataframe thead th {\n",
       "        text-align: right;\n",
       "    }\n",
       "</style>\n",
       "<table border=\"1\" class=\"dataframe\">\n",
       "  <thead>\n",
       "    <tr style=\"text-align: right;\">\n",
       "      <th></th>\n",
       "      <th>Country</th>\n",
       "      <th>Age</th>\n",
       "      <th>Salary</th>\n",
       "    </tr>\n",
       "  </thead>\n",
       "  <tbody>\n",
       "    <tr>\n",
       "      <th>0</th>\n",
       "      <td>France</td>\n",
       "      <td>44.0</td>\n",
       "      <td>72000.0</td>\n",
       "    </tr>\n",
       "    <tr>\n",
       "      <th>1</th>\n",
       "      <td>NaN</td>\n",
       "      <td>27.0</td>\n",
       "      <td>48000.0</td>\n",
       "    </tr>\n",
       "    <tr>\n",
       "      <th>2</th>\n",
       "      <td>Germany</td>\n",
       "      <td>NaN</td>\n",
       "      <td>54000.0</td>\n",
       "    </tr>\n",
       "    <tr>\n",
       "      <th>3</th>\n",
       "      <td>Spain</td>\n",
       "      <td>39.0</td>\n",
       "      <td>NaN</td>\n",
       "    </tr>\n",
       "    <tr>\n",
       "      <th>4</th>\n",
       "      <td>Germany</td>\n",
       "      <td>NaN</td>\n",
       "      <td>64000.0</td>\n",
       "    </tr>\n",
       "    <tr>\n",
       "      <th>5</th>\n",
       "      <td>France</td>\n",
       "      <td>35.0</td>\n",
       "      <td>58000.0</td>\n",
       "    </tr>\n",
       "    <tr>\n",
       "      <th>6</th>\n",
       "      <td>Spain</td>\n",
       "      <td>39.0</td>\n",
       "      <td>52000.0</td>\n",
       "    </tr>\n",
       "    <tr>\n",
       "      <th>7</th>\n",
       "      <td>France</td>\n",
       "      <td>48.0</td>\n",
       "      <td>NaN</td>\n",
       "    </tr>\n",
       "    <tr>\n",
       "      <th>8</th>\n",
       "      <td>Germany</td>\n",
       "      <td>50.0</td>\n",
       "      <td>83000.0</td>\n",
       "    </tr>\n",
       "    <tr>\n",
       "      <th>9</th>\n",
       "      <td>France</td>\n",
       "      <td>37.0</td>\n",
       "      <td>67000.0</td>\n",
       "    </tr>\n",
       "  </tbody>\n",
       "</table>\n",
       "</div>"
      ],
      "text/plain": [
       "   Country   Age   Salary \n",
       "0   France   44.0  72000.0\n",
       "1       NaN  27.0  48000.0\n",
       "2  Germany    NaN  54000.0\n",
       "3    Spain   39.0      NaN\n",
       "4  Germany    NaN  64000.0\n",
       "5   France   35.0  58000.0\n",
       "6    Spain   39.0  52000.0\n",
       "7   France   48.0      NaN\n",
       "8  Germany   50.0  83000.0\n",
       "9   France   37.0  67000.0"
      ]
     },
     "execution_count": 37,
     "metadata": {},
     "output_type": "execute_result"
    }
   ],
   "source": [
    "x = df1.iloc[:,:-1]\n",
    "x"
   ]
  },
  {
   "cell_type": "code",
   "execution_count": 38,
   "id": "3c00f33e-7661-42af-800d-808a5e494137",
   "metadata": {},
   "outputs": [
    {
     "data": {
      "text/plain": [
       "array([['France ', 44.0, 72000.0],\n",
       "       [nan, 27.0, 48000.0],\n",
       "       ['Germany ', nan, 54000.0],\n",
       "       ['Spain ', 39.0, nan],\n",
       "       ['Germany ', nan, 64000.0],\n",
       "       ['France ', 35.0, 58000.0],\n",
       "       ['Spain ', 39.0, 52000.0],\n",
       "       ['France ', 48.0, nan],\n",
       "       ['Germany ', 50.0, 83000.0],\n",
       "       ['France ', 37.0, 67000.0]], dtype=object)"
      ]
     },
     "execution_count": 38,
     "metadata": {},
     "output_type": "execute_result"
    }
   ],
   "source": [
    "x = df1.iloc[:,:-1].values\n",
    "x"
   ]
  },
  {
   "cell_type": "code",
   "execution_count": 39,
   "id": "c737612c-a8dc-4c29-9b38-5d48ad2e38b5",
   "metadata": {},
   "outputs": [
    {
     "data": {
      "text/plain": [
       "array(['No', 'Yes', 'No', 'No', 'Yes', 'Yes', 'No', 'Yes', 'No', 'Yes'],\n",
       "      dtype=object)"
      ]
     },
     "execution_count": 39,
     "metadata": {},
     "output_type": "execute_result"
    }
   ],
   "source": [
    "y = df1.iloc[:,-1].values\n",
    "y"
   ]
  },
  {
   "cell_type": "code",
   "execution_count": 40,
   "id": "a112436f-12ef-4702-95e8-f735470b638b",
   "metadata": {},
   "outputs": [
    {
     "data": {
      "text/plain": [
       "array([[44.0],\n",
       "       [27.0],\n",
       "       [nan],\n",
       "       [39.0],\n",
       "       [nan],\n",
       "       [35.0],\n",
       "       [39.0],\n",
       "       [48.0],\n",
       "       [50.0],\n",
       "       [37.0]], dtype=object)"
      ]
     },
     "execution_count": 40,
     "metadata": {},
     "output_type": "execute_result"
    }
   ],
   "source": [
    "x[:,1:2] #this has the missing datatypes"
   ]
  },
  {
   "cell_type": "code",
   "execution_count": 41,
   "id": "bec35fd2-c42d-44aa-868f-d2ca500efc7a",
   "metadata": {},
   "outputs": [
    {
     "data": {
      "text/plain": [
       "array([[44.   ],\n",
       "       [27.   ],\n",
       "       [39.875],\n",
       "       [39.   ],\n",
       "       [39.875],\n",
       "       [35.   ],\n",
       "       [39.   ],\n",
       "       [48.   ],\n",
       "       [50.   ],\n",
       "       [37.   ]])"
      ]
     },
     "execution_count": 41,
     "metadata": {},
     "output_type": "execute_result"
    }
   ],
   "source": [
    "#filling in the missing data in a file\n",
    "from sklearn.impute import SimpleImputer #sklearn is widely used to fill missing data, used to create ML algorithms\n",
    "si = SimpleImputer() #creates an instance of the sklearn class. This will be used to fill in missing data\n",
    "si.fit(x[:,1:2]) #this line is going to take the average of the given data in the specified column which is column 2 of 'x' here\n",
    "si.transform(x[:,1:2]) #the .transform makes the changes by imputing the data calcualted in the previos .fit step and fills in empty data"
   ]
  },
  {
   "cell_type": "code",
   "execution_count": 42,
   "id": "597e7f57-9090-456c-b28f-0e74d2541439",
   "metadata": {},
   "outputs": [
    {
     "data": {
      "text/plain": [
       "array([[44.],\n",
       "       [27.],\n",
       "       [39.],\n",
       "       [39.],\n",
       "       [39.],\n",
       "       [35.],\n",
       "       [39.],\n",
       "       [48.],\n",
       "       [50.],\n",
       "       [37.]])"
      ]
     },
     "execution_count": 42,
     "metadata": {},
     "output_type": "execute_result"
    }
   ],
   "source": [
    "from sklearn.impute import SimpleImputer \n",
    "si = SimpleImputer(strategy = 'median') #by default average is taken. The strategy = 'mean' gives the median value to be filled in instead \n",
    "si.fit(x[:,1:2])\n",
    "si.transform(x[:,1:2]) "
   ]
  },
  {
   "cell_type": "code",
   "execution_count": 43,
   "id": "f35ae51b-7829-48e4-b3b5-ed8d54df8c36",
   "metadata": {},
   "outputs": [
    {
     "data": {
      "text/plain": [
       "array([[44.0],\n",
       "       [27.0],\n",
       "       [39.0],\n",
       "       [39.0],\n",
       "       [39.0],\n",
       "       [35.0],\n",
       "       [39.0],\n",
       "       [48.0],\n",
       "       [50.0],\n",
       "       [37.0]], dtype=object)"
      ]
     },
     "execution_count": 43,
     "metadata": {},
     "output_type": "execute_result"
    }
   ],
   "source": [
    "from sklearn.impute import SimpleImputer \n",
    "si = SimpleImputer(strategy = 'most_frequent') #most frequent data being used\n",
    "si.fit(x[:,1:2])\n",
    "si.transform(x[:,1:2]) "
   ]
  },
  {
   "cell_type": "code",
   "execution_count": 44,
   "id": "8df3695b-1a16-4451-8ac3-69f16a1ce412",
   "metadata": {},
   "outputs": [
    {
     "data": {
      "text/plain": [
       "array([[44.0],\n",
       "       [27.0],\n",
       "       ['missing_value'],\n",
       "       [39.0],\n",
       "       ['missing_value'],\n",
       "       [35.0],\n",
       "       [39.0],\n",
       "       [48.0],\n",
       "       [50.0],\n",
       "       [37.0]], dtype=object)"
      ]
     },
     "execution_count": 44,
     "metadata": {},
     "output_type": "execute_result"
    }
   ],
   "source": [
    "from sklearn.impute import SimpleImputer \n",
    "si = SimpleImputer(strategy = 'constant') #constant is used\n",
    "si.fit(x[:,1:2])\n",
    "si.transform(x[:,1:2])"
   ]
  },
  {
   "cell_type": "code",
   "execution_count": 45,
   "id": "57c7e2c2-f307-429e-ad1d-ade3e4234bef",
   "metadata": {},
   "outputs": [
    {
     "data": {
      "text/plain": [
       "array([[44.0],\n",
       "       [27.0],\n",
       "       [555],\n",
       "       [39.0],\n",
       "       [555],\n",
       "       [35.0],\n",
       "       [39.0],\n",
       "       [48.0],\n",
       "       [50.0],\n",
       "       [37.0]], dtype=object)"
      ]
     },
     "execution_count": 45,
     "metadata": {},
     "output_type": "execute_result"
    }
   ],
   "source": [
    "from sklearn.impute import SimpleImputer \n",
    "si = SimpleImputer(strategy = 'constant',fill_value=555) #constant is used but value mentioned\n",
    "si.fit(x[:,1:2])\n",
    "si.transform(x[:,1:2]) "
   ]
  },
  {
   "cell_type": "code",
   "execution_count": 46,
   "id": "8d539bd6-efd2-4140-9ed0-967f87a09bc2",
   "metadata": {},
   "outputs": [
    {
     "data": {
      "text/plain": [
       "array([['France '],\n",
       "       ['France '],\n",
       "       ['Germany '],\n",
       "       ['Spain '],\n",
       "       ['Germany '],\n",
       "       ['France '],\n",
       "       ['Spain '],\n",
       "       ['France '],\n",
       "       ['Germany '],\n",
       "       ['France ']], dtype=object)"
      ]
     },
     "execution_count": 46,
     "metadata": {},
     "output_type": "execute_result"
    }
   ],
   "source": [
    "from sklearn.impute import SimpleImputer \n",
    "si = SimpleImputer(strategy = 'most_frequent') #most frequent data being used for columns like country name/date\n",
    "si.fit(x[:,0:1])\n",
    "si.transform(x[:,0:1]) #filled with france as it is the most frequent"
   ]
  },
  {
   "cell_type": "code",
   "execution_count": 1,
   "id": "32729d13-ef86-4bc0-9f2c-55fa8af78bac",
   "metadata": {},
   "outputs": [],
   "source": [
    "#os.getcwd()"
   ]
  },
  {
   "cell_type": "code",
   "execution_count": 48,
   "id": "9ed8d66f-8c18-4dc4-9fc4-cea3d3cf3047",
   "metadata": {},
   "outputs": [
    {
     "data": {
      "text/html": [
       "<div>\n",
       "<style scoped>\n",
       "    .dataframe tbody tr th:only-of-type {\n",
       "        vertical-align: middle;\n",
       "    }\n",
       "\n",
       "    .dataframe tbody tr th {\n",
       "        vertical-align: top;\n",
       "    }\n",
       "\n",
       "    .dataframe thead th {\n",
       "        text-align: right;\n",
       "    }\n",
       "</style>\n",
       "<table border=\"1\" class=\"dataframe\">\n",
       "  <thead>\n",
       "    <tr style=\"text-align: right;\">\n",
       "      <th></th>\n",
       "      <th>Country</th>\n",
       "      <th>Age</th>\n",
       "      <th>Salary</th>\n",
       "      <th>Purchased</th>\n",
       "    </tr>\n",
       "  </thead>\n",
       "  <tbody>\n",
       "    <tr>\n",
       "      <th>0</th>\n",
       "      <td>France</td>\n",
       "      <td>44.0</td>\n",
       "      <td>72000.0</td>\n",
       "      <td>No</td>\n",
       "    </tr>\n",
       "    <tr>\n",
       "      <th>1</th>\n",
       "      <td>NaN</td>\n",
       "      <td>27.0</td>\n",
       "      <td>48000.0</td>\n",
       "      <td>Yes</td>\n",
       "    </tr>\n",
       "    <tr>\n",
       "      <th>2</th>\n",
       "      <td>Germany</td>\n",
       "      <td>NaN</td>\n",
       "      <td>54000.0</td>\n",
       "      <td>No</td>\n",
       "    </tr>\n",
       "    <tr>\n",
       "      <th>3</th>\n",
       "      <td>Spain</td>\n",
       "      <td>39.0</td>\n",
       "      <td>NaN</td>\n",
       "      <td>No</td>\n",
       "    </tr>\n",
       "    <tr>\n",
       "      <th>4</th>\n",
       "      <td>Germany</td>\n",
       "      <td>NaN</td>\n",
       "      <td>64000.0</td>\n",
       "      <td>Yes</td>\n",
       "    </tr>\n",
       "    <tr>\n",
       "      <th>5</th>\n",
       "      <td>France</td>\n",
       "      <td>35.0</td>\n",
       "      <td>58000.0</td>\n",
       "      <td>Yes</td>\n",
       "    </tr>\n",
       "    <tr>\n",
       "      <th>6</th>\n",
       "      <td>Spain</td>\n",
       "      <td>39.0</td>\n",
       "      <td>52000.0</td>\n",
       "      <td>No</td>\n",
       "    </tr>\n",
       "    <tr>\n",
       "      <th>7</th>\n",
       "      <td>France</td>\n",
       "      <td>48.0</td>\n",
       "      <td>NaN</td>\n",
       "      <td>Yes</td>\n",
       "    </tr>\n",
       "    <tr>\n",
       "      <th>8</th>\n",
       "      <td>Germany</td>\n",
       "      <td>50.0</td>\n",
       "      <td>83000.0</td>\n",
       "      <td>No</td>\n",
       "    </tr>\n",
       "    <tr>\n",
       "      <th>9</th>\n",
       "      <td>France</td>\n",
       "      <td>37.0</td>\n",
       "      <td>67000.0</td>\n",
       "      <td>Yes</td>\n",
       "    </tr>\n",
       "  </tbody>\n",
       "</table>\n",
       "</div>"
      ],
      "text/plain": [
       "   Country   Age   Salary  Purchased \n",
       "0   France   44.0  72000.0         No\n",
       "1       NaN  27.0  48000.0        Yes\n",
       "2  Germany    NaN  54000.0         No\n",
       "3    Spain   39.0      NaN         No\n",
       "4  Germany    NaN  64000.0        Yes\n",
       "5   France   35.0  58000.0        Yes\n",
       "6    Spain   39.0  52000.0         No\n",
       "7   France   48.0      NaN        Yes\n",
       "8  Germany   50.0  83000.0         No\n",
       "9   France   37.0  67000.0        Yes"
      ]
     },
     "execution_count": 48,
     "metadata": {},
     "output_type": "execute_result"
    }
   ],
   "source": [
    "df1 = pd.read_excel(\"Data Preprocessing Data File.xlsx\")\n",
    "df1"
   ]
  },
  {
   "cell_type": "code",
   "execution_count": 49,
   "id": "1aeee5a4-cca9-4bd3-937b-ae5ccc005bae",
   "metadata": {},
   "outputs": [
    {
     "data": {
      "text/plain": [
       "array([['France ', 44.0, 72000.0],\n",
       "       [nan, 27.0, 48000.0],\n",
       "       ['Germany ', nan, 54000.0],\n",
       "       ['Spain ', 39.0, nan],\n",
       "       ['Germany ', nan, 64000.0],\n",
       "       ['France ', 35.0, 58000.0],\n",
       "       ['Spain ', 39.0, 52000.0],\n",
       "       ['France ', 48.0, nan],\n",
       "       ['Germany ', 50.0, 83000.0],\n",
       "       ['France ', 37.0, 67000.0]], dtype=object)"
      ]
     },
     "execution_count": 49,
     "metadata": {},
     "output_type": "execute_result"
    }
   ],
   "source": [
    "#column to predict will be dependant variable\n",
    "x = df1.iloc[:,:-1].values #excludes last column\n",
    "x"
   ]
  },
  {
   "cell_type": "code",
   "execution_count": 50,
   "id": "2ede6a72-502f-4680-a049-9f0607cdb3c4",
   "metadata": {},
   "outputs": [
    {
     "name": "stdout",
     "output_type": "stream",
     "text": [
      "['No' 'Yes' 'No' 'No' 'Yes' 'Yes' 'No' 'Yes' 'No' 'Yes']\n"
     ]
    }
   ],
   "source": [
    "y = df1.iloc[:,3].values\n",
    "print(y)"
   ]
  },
  {
   "cell_type": "code",
   "execution_count": 51,
   "id": "cad946aa-0b3a-49e8-ab8b-4a60df4b01c2",
   "metadata": {},
   "outputs": [
    {
     "data": {
      "text/plain": [
       "array([[44.0],\n",
       "       [27.0],\n",
       "       [nan],\n",
       "       [39.0],\n",
       "       [nan],\n",
       "       [35.0],\n",
       "       [39.0],\n",
       "       [48.0],\n",
       "       [50.0],\n",
       "       [37.0]], dtype=object)"
      ]
     },
     "execution_count": 51,
     "metadata": {},
     "output_type": "execute_result"
    }
   ],
   "source": [
    "x[:,1:2]"
   ]
  },
  {
   "cell_type": "code",
   "execution_count": 52,
   "id": "783b753f-6256-4d99-bcce-f4b945b30065",
   "metadata": {},
   "outputs": [
    {
     "data": {
      "text/plain": [
       "array([['France ', 44.0, 72000.0],\n",
       "       [nan, 27.0, 48000.0],\n",
       "       ['Germany ', 39.875, 54000.0],\n",
       "       ['Spain ', 39.0, nan],\n",
       "       ['Germany ', 39.875, 64000.0],\n",
       "       ['France ', 35.0, 58000.0],\n",
       "       ['Spain ', 39.0, 52000.0],\n",
       "       ['France ', 48.0, nan],\n",
       "       ['Germany ', 50.0, 83000.0],\n",
       "       ['France ', 37.0, 67000.0]], dtype=object)"
      ]
     },
     "execution_count": 52,
     "metadata": {},
     "output_type": "execute_result"
    }
   ],
   "source": [
    "from sklearn.impute import SimpleImputer\n",
    "si = SimpleImputer()\n",
    "x[:,1:2] = si.fit_transform(x[:,1:2])\n",
    "x"
   ]
  },
  {
   "cell_type": "code",
   "execution_count": 53,
   "id": "7616d881-e6cf-4576-ba01-0e75d40250f7",
   "metadata": {},
   "outputs": [
    {
     "data": {
      "text/plain": [
       "array([['France ', 44.0, 72000.0],\n",
       "       [nan, 27.0, 48000.0],\n",
       "       ['Germany ', 39.875, 54000.0],\n",
       "       ['Spain ', 39.0, 62250.0],\n",
       "       ['Germany ', 39.875, 64000.0],\n",
       "       ['France ', 35.0, 58000.0],\n",
       "       ['Spain ', 39.0, 52000.0],\n",
       "       ['France ', 48.0, 62250.0],\n",
       "       ['Germany ', 50.0, 83000.0],\n",
       "       ['France ', 37.0, 67000.0]], dtype=object)"
      ]
     },
     "execution_count": 53,
     "metadata": {},
     "output_type": "execute_result"
    }
   ],
   "source": [
    "from sklearn.impute import SimpleImputer\n",
    "si = SimpleImputer()\n",
    "x[:,2:] = si.fit_transform(x[:,2:]) #salary gap filled with average\n",
    "x"
   ]
  },
  {
   "cell_type": "code",
   "execution_count": 54,
   "id": "d10566fc-e166-4411-baf2-66c737055c42",
   "metadata": {},
   "outputs": [
    {
     "name": "stdout",
     "output_type": "stream",
     "text": [
      "[['France ' 44.0 72000.0]\n",
      " ['France ' 27.0 48000.0]\n",
      " ['Germany ' 39.875 54000.0]\n",
      " ['Spain ' 39.0 62250.0]\n",
      " ['Germany ' 39.875 64000.0]\n",
      " ['France ' 35.0 58000.0]\n",
      " ['Spain ' 39.0 52000.0]\n",
      " ['France ' 48.0 62250.0]\n",
      " ['Germany ' 50.0 83000.0]\n",
      " ['France ' 37.0 67000.0]]\n"
     ]
    }
   ],
   "source": [
    "from sklearn.impute import SimpleImputer\n",
    "imputer = SimpleImputer(strategy = 'most_frequent')\n",
    "imputer = imputer.fit(x[:,0:1])\n",
    "x[:,0:1] = imputer.transform(x[:,0:1])\n",
    "print(x)"
   ]
  },
  {
   "cell_type": "code",
   "execution_count": 55,
   "id": "a032021b-753d-4824-84b5-171e5bd836fb",
   "metadata": {},
   "outputs": [
    {
     "name": "stdout",
     "output_type": "stream",
     "text": [
      "[[0 44.0 72000.0]\n",
      " [0 27.0 48000.0]\n",
      " [1 39.875 54000.0]\n",
      " [2 39.0 62250.0]\n",
      " [1 39.875 64000.0]\n",
      " [0 35.0 58000.0]\n",
      " [2 39.0 52000.0]\n",
      " [0 48.0 62250.0]\n",
      " [1 50.0 83000.0]\n",
      " [0 37.0 67000.0]]\n"
     ]
    }
   ],
   "source": [
    "#Labeling Data\n",
    "from sklearn.preprocessing import LabelEncoder\n",
    "label_x = LabelEncoder()\n",
    "x[:,0] = label_x.fit_transform(x[:,0])\n",
    "print(x) #france getns label 0, germany gets 1 and spain gets 2"
   ]
  },
  {
   "cell_type": "code",
   "execution_count": 64,
   "id": "f7e39aae-2f89-40b8-8645-c973ba193dc5",
   "metadata": {},
   "outputs": [
    {
     "name": "stdout",
     "output_type": "stream",
     "text": [
      "[0 1 0 0 1 1 0 1 0 1]\n"
     ]
    }
   ],
   "source": [
    "from sklearn.preprocessing import LabelEncoder\n",
    "label_y = LabelEncoder()\n",
    "y = label_y.fit_transform(y) #column indexing is not required as y has only 1 column\n",
    "print(y) #yes is marked 0, no is marked 1"
   ]
  },
  {
   "cell_type": "code",
   "execution_count": 57,
   "id": "c52f6d4a-cb96-4b0f-9452-ed462cf6f263",
   "metadata": {},
   "outputs": [
    {
     "data": {
      "text/plain": [
       "array([[1., 0., 0.],\n",
       "       [1., 0., 0.],\n",
       "       [0., 1., 0.],\n",
       "       [0., 0., 1.],\n",
       "       [0., 1., 0.],\n",
       "       [1., 0., 0.],\n",
       "       [0., 0., 1.],\n",
       "       [1., 0., 0.],\n",
       "       [0., 1., 0.],\n",
       "       [1., 0., 0.]])"
      ]
     },
     "execution_count": 57,
     "metadata": {},
     "output_type": "execute_result"
    }
   ],
   "source": [
    "#OneHotEncoder is used to convert categorical data into a format that can be used by ML algos\n",
    "#ColumnTransformer is used to apply different preprocessing steps to different columns. Useful when differnt columns have different data types\n",
    "from sklearn.compose import ColumnTransformer\n",
    "from sklearn.preprocessing import OneHotEncoder\n",
    "ct = ColumnTransformer(transformers = [('one',OneHotEncoder(),[0])]) #ColumnTransformer(transformers = [(name, transformer, columns)])\n",
    "ct.fit_transform(x) #fit_transformer makes the changes\n",
    "#the bottom result has classified 0 and 1 for the 3 countried, whenever the country name matches it gets a 1 and if it dosent match is shows 0"
   ]
  },
  {
   "cell_type": "code",
   "execution_count": 58,
   "id": "fe3cf40e-63b4-46a0-8490-30770928654a",
   "metadata": {},
   "outputs": [
    {
     "data": {
      "text/plain": [
       "array([[1.0, 0.0, 0.0, 44.0, 72000.0],\n",
       "       [1.0, 0.0, 0.0, 27.0, 48000.0],\n",
       "       [0.0, 1.0, 0.0, 39.875, 54000.0],\n",
       "       [0.0, 0.0, 1.0, 39.0, 62250.0],\n",
       "       [0.0, 1.0, 0.0, 39.875, 64000.0],\n",
       "       [1.0, 0.0, 0.0, 35.0, 58000.0],\n",
       "       [0.0, 0.0, 1.0, 39.0, 52000.0],\n",
       "       [1.0, 0.0, 0.0, 48.0, 62250.0],\n",
       "       [0.0, 1.0, 0.0, 50.0, 83000.0],\n",
       "       [1.0, 0.0, 0.0, 37.0, 67000.0]], dtype=object)"
      ]
     },
     "execution_count": 58,
     "metadata": {},
     "output_type": "execute_result"
    }
   ],
   "source": [
    "from sklearn.compose import ColumnTransformer\n",
    "from sklearn.preprocessing import OneHotEncoder\n",
    "ct = ColumnTransformer(transformers = [('one',OneHotEncoder(),[0])],remainder = 'passthrough')#default remainder is 'drop' which drops other columns\n",
    "#having passthrought keeps the additional columns on which OneHotEncoder is not performed\n",
    "ct.fit_transform(x)"
   ]
  },
  {
   "cell_type": "code",
   "execution_count": 65,
   "id": "2ccecff2-fcdc-4d34-875e-63cac17a5da0",
   "metadata": {},
   "outputs": [
    {
     "name": "stdout",
     "output_type": "stream",
     "text": [
      "[[0.0 1.0 0.0 0.0 44.0 72000.0]\n",
      " [0.0 1.0 0.0 0.0 27.0 48000.0]\n",
      " [1.0 0.0 1.0 0.0 39.875 54000.0]\n",
      " [1.0 0.0 0.0 1.0 39.0 62250.0]\n",
      " [1.0 0.0 1.0 0.0 39.875 64000.0]\n",
      " [0.0 1.0 0.0 0.0 35.0 58000.0]\n",
      " [1.0 0.0 0.0 1.0 39.0 52000.0]\n",
      " [0.0 1.0 0.0 0.0 48.0 62250.0]\n",
      " [1.0 0.0 1.0 0.0 50.0 83000.0]\n",
      " [0.0 1.0 0.0 0.0 37.0 67000.0]]\n"
     ]
    }
   ],
   "source": [
    "from sklearn.compose import ColumnTransformer\n",
    "from sklearn.preprocessing import OneHotEncoder\n",
    "ct = ColumnTransformer(transformers=[('encoder', OneHotEncoder(), [0])], remainder='passthrough')\n",
    "x = np.array(ct.fit_transform(x)) #this stores the transformed data into 'x'. The previous code dosen't do this storing and simply prints the labeled data\n",
    "print (x)"
   ]
  },
  {
   "cell_type": "code",
   "execution_count": 66,
   "id": "90984db4-7d6f-445c-b223-e55d79f9d74c",
   "metadata": {},
   "outputs": [
    {
     "name": "stdout",
     "output_type": "stream",
     "text": [
      "     0    1         2    3         4         5\n",
      "0 -1.0  1.0 -0.654654 -0.5  0.664912  1.002707\n",
      "1 -1.0  1.0 -0.654654 -0.5 -2.075331 -1.465494\n",
      "2  1.0 -1.0  1.527525 -0.5  0.000000 -0.848444\n",
      "3  1.0 -1.0 -0.654654  2.0 -0.141042  0.000000\n",
      "4  1.0 -1.0  1.527525 -0.5  0.000000  0.179973\n",
      "5 -1.0  1.0 -0.654654 -0.5 -0.785805 -0.437077\n",
      "6  1.0 -1.0 -0.654654  2.0 -0.141042 -1.054127\n",
      "7 -1.0  1.0 -0.654654 -0.5  1.309675  0.000000\n",
      "8  1.0 -1.0  1.527525 -0.5  1.632056  2.133965\n",
      "9 -1.0  1.0 -0.654654 -0.5 -0.463423  0.488498\n"
     ]
    }
   ],
   "source": [
    "#standardisation\n",
    "from sklearn.preprocessing import StandardScaler\n",
    "std_sca = StandardScaler()\n",
    "x_STD = std_sca.fit_transform(x) #fit here is calculating the mean value of given data\n",
    "#transform standardises the vales. Done by subtracting present value from mean and dividing by standard deviation\n",
    "#standard deviation shows how spread out the data is from a mean point. Higher SD means data is more spread out from the mean while lower means that given data is closer to the mean\n",
    "print(pd.DataFrame(x_STD))"
   ]
  },
  {
   "cell_type": "code",
   "execution_count": 67,
   "id": "c3fe1b71-c05a-4a8e-99b6-e873db0037d6",
   "metadata": {},
   "outputs": [
    {
     "name": "stdout",
     "output_type": "stream",
     "text": [
      "     0    1    2    3         4         5\n",
      "0  0.0  1.0  0.0  0.0  0.739130  0.685714\n",
      "1  0.0  1.0  0.0  0.0  0.000000  0.000000\n",
      "2  1.0  0.0  1.0  0.0  0.559783  0.171429\n",
      "3  1.0  0.0  0.0  1.0  0.521739  0.407143\n",
      "4  1.0  0.0  1.0  0.0  0.559783  0.457143\n",
      "5  0.0  1.0  0.0  0.0  0.347826  0.285714\n",
      "6  1.0  0.0  0.0  1.0  0.521739  0.114286\n",
      "7  0.0  1.0  0.0  0.0  0.913043  0.407143\n",
      "8  1.0  0.0  1.0  0.0  1.000000  1.000000\n",
      "9  0.0  1.0  0.0  0.0  0.434783  0.542857\n"
     ]
    }
   ],
   "source": [
    "#min max scaler: transforms columns into a given range usually between 0 and 1\n",
    "from sklearn.preprocessing import MinMaxScaler\n",
    "Mn_x = MinMaxScaler()\n",
    "x_NOR = Mn_x.fit_transform(x) #fit calculates the max and min values\n",
    "#transform then uses those values to scale x\n",
    "#scaling is done by subtracting value of min form x i.e. x-min and divided by max-min\n",
    "print(pd.DataFrame(x_NOR)) #converting numpy array into a pandas dataframe with labels and printing it"
   ]
  },
  {
   "cell_type": "code",
   "execution_count": 68,
   "id": "f8410dd0-c4c5-4e88-b366-1185fd2fa0e9",
   "metadata": {},
   "outputs": [
    {
     "name": "stdout",
     "output_type": "stream",
     "text": [
      "          0         1         2         3         4    5\n",
      "0  0.000000  0.000014  0.000000  0.000000  0.000611  1.0\n",
      "1  0.000000  0.000021  0.000000  0.000000  0.000562  1.0\n",
      "2  0.000019  0.000000  0.000019  0.000000  0.000738  1.0\n",
      "3  0.000016  0.000000  0.000000  0.000016  0.000627  1.0\n",
      "4  0.000016  0.000000  0.000016  0.000000  0.000623  1.0\n",
      "5  0.000000  0.000017  0.000000  0.000000  0.000603  1.0\n",
      "6  0.000019  0.000000  0.000000  0.000019  0.000750  1.0\n",
      "7  0.000000  0.000016  0.000000  0.000000  0.000771  1.0\n",
      "8  0.000012  0.000000  0.000012  0.000000  0.000602  1.0\n",
      "9  0.000000  0.000015  0.000000  0.000000  0.000552  1.0\n"
     ]
    }
   ],
   "source": [
    "from sklearn.preprocessing import Normalizer\n",
    "Nm_x= Normalizer()\n",
    "x_NOR = Nm_x.fit_transform(x) #scales by divind each element of x by norm\n",
    "print (pd.DataFrame(x_NOR))"
   ]
  },
  {
   "cell_type": "code",
   "execution_count": 63,
   "id": "4ec5258b-cb0e-4858-bb1c-658b59858d0a",
   "metadata": {},
   "outputs": [
    {
     "name": "stdout",
     "output_type": "stream",
     "text": [
      "[[1.0 0.0 0.0 44.0 72000.0]\n",
      " [1.0 0.0 0.0 27.0 48000.0]\n",
      " [0.0 1.0 0.0 39.875 54000.0]\n",
      " [0.0 0.0 1.0 39.0 62250.0]\n",
      " [0.0 1.0 0.0 39.875 64000.0]\n",
      " [1.0 0.0 0.0 35.0 58000.0]\n",
      " [0.0 0.0 1.0 39.0 52000.0]\n",
      " [1.0 0.0 0.0 48.0 62250.0]\n",
      " [0.0 1.0 0.0 50.0 83000.0]\n",
      " [1.0 0.0 0.0 37.0 67000.0]]\n"
     ]
    }
   ],
   "source": [
    "print(x)"
   ]
  },
  {
   "cell_type": "code",
   "execution_count": null,
   "id": "d169398e-6857-4eef-ba95-b9223bf380d4",
   "metadata": {},
   "outputs": [],
   "source": []
  }
 ],
 "metadata": {
  "kernelspec": {
   "display_name": "Python 3 (ipykernel)",
   "language": "python",
   "name": "python3"
  },
  "language_info": {
   "codemirror_mode": {
    "name": "ipython",
    "version": 3
   },
   "file_extension": ".py",
   "mimetype": "text/x-python",
   "name": "python",
   "nbconvert_exporter": "python",
   "pygments_lexer": "ipython3",
   "version": "3.12.3"
  }
 },
 "nbformat": 4,
 "nbformat_minor": 5
}
